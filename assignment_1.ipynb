{
  "nbformat": 4,
  "nbformat_minor": 0,
  "metadata": {
    "colab": {
      "provenance": []
    },
    "kernelspec": {
      "name": "python3",
      "display_name": "Python 3"
    },
    "language_info": {
      "name": "python"
    }
  },
  "cells": [
    {
      "cell_type": "code",
      "execution_count": null,
      "metadata": {
        "id": "ImTotXsSUsO6"
      },
      "outputs": [],
      "source": []
    },
    {
      "cell_type": "markdown",
      "source": [
        "**PYTHON** **BASIC** **QUESTIONS**"
      ],
      "metadata": {
        "id": "OEq8pt7l6ZKs"
      }
    },
    {
      "cell_type": "markdown",
      "source": [
        "Answer 1.\n",
        "Python is an programming language using which we can easily code because this language is very simple and readable. At the same time, this language is used for high level programmings as well.\n",
        "It is very popular because of its libraries, also because it can do ML,AI, Web development,etc.\n",
        "\n",
        "Answer 2.\n",
        "Interpreter in python, executes the code after reading it directly.\n",
        "\n",
        "Answer 3.\n",
        "Pre-defined keywords in python are used for specific tasks, such as if, else, elif, and, or, etc.\n",
        "\n",
        "Answer 4.\n",
        "Keywords can't be used as variable names, because if then we use that keywords for thier tasks, then that keyword will not function as keyword.\n",
        "\n",
        "Answer 5.\n",
        "Mutability can be defined as in terms that the context of that can be changed, i.e. In Lists, we can change the contexts using their index, but unlike Lists we can't do that in string, we will get an error there.\n",
        "\n",
        "Answer 6.\n",
        "Lists are mutable because, the content inside it can be changed or modified.\n",
        "Tuples unlike Lists are immutable because, in tuples once they are created, we cannot change or modify it.\n",
        "\n",
        "Answer 7.\n",
        "Here, '==' stands for equals to and it shows the equality.\n",
        "But, 'is' also written as'=' is used for identity.\n",
        "\n",
        "Answer 8.\n",
        "Logical operators in python are of two types :- 'and' 'or'\n",
        "So, combining conditinal statements using either of these, will give us boolean value i.e. True or False accordingly.\n",
        "\n",
        "Answer 9.\n",
        "In type casting, we can change one type of datatype to another. Ex- int to float, string to int(if int),etc.\n",
        "\n",
        "Answer 10.\n",
        "\n",
        "Answer 11.\n",
        "Conditional statements, as we get to know from the word condition, can be used in py codes to put conditions like, if x>10: print(\"this\"), etc.\n",
        "So, likewise using these if, else, elif,etc. we can get our required outcome.\n",
        "\n",
        "Answer 12.\n",
        "We can use elif in multiple contditions. If this does not happen then elif is used, similarly it can be used again and again\n",
        "\n",
        "Answer 13.\n",
        "NOT IN PREVIOUS LECTURES\n",
        "\n",
        "Answer 14.\n",
        "NOT IN PREVIOUS LECTURES\n"
      ],
      "metadata": {
        "id": "UqZxMYZnV0WZ"
      }
    },
    {
      "cell_type": "markdown",
      "source": [
        "**PRACTICAL** **QUESTIONS**\n",
        "\n"
      ],
      "metadata": {
        "id": "y6tuguI2gCXN"
      }
    },
    {
      "cell_type": "code",
      "source": [
        "# ANSWER 1.\n",
        "print(\"hello world\")\n",
        "\n",
        "# ANSWER 2.\n",
        "print(\"Name = Krish\")\n",
        "print(\"Age = 20\")\n",
        "\n",
        "# ANSWER 3.\n",
        "'''NOT IN PREVIOUS LECTURES'''\n",
        "\n",
        "# ANSWER 4.\n",
        "'''NOT IN PREVIOUS LECTURES'''\n",
        "\n",
        "# ANSWER 5.\n",
        "'''NOT IN PREVIOUS LECTURES'''\n",
        "\n",
        "# ANSWER 6.\n",
        "a = [1,2,2.3,True,\"ajay\"]\n",
        "b = \"vijay\"\n",
        "a[4]=\"raj\"\n",
        "#here, in list a ajay is replaced by raj\n",
        "print(a)\n",
        "#but doing this with b will give us an error.\n",
        "b[2]=\"k\"\n",
        "print(b)\n",
        "#so, b will remain same\n",
        "#So, this shows that list is mutable and string is immutable.\n",
        "\n",
        "# ANSWER 7.\n",
        "a = [1,2,2.3,True,\"ajay\"]\n",
        "b = \"vijay\"\n",
        "a[4]=\"raj\"\n",
        "#here, in list a ajay is replaced by raj\n",
        "print(a)\n",
        "#but doing this with b will give us an error.\n",
        "b[2]=\"k\"\n",
        "print(b)\n",
        "#so, b will remain same\n",
        "#So, this shows that list is mutable and string is immutable.\n",
        "\n",
        "# ANSWER 8.\n",
        "a=10\n",
        "b=5\n",
        "print(a>1 and b>4) #True\n",
        "print(a>11 or b>3) #True\n",
        "print(a>11 and b>3) #False\n",
        "\n",
        "# ANSWER 9.\n",
        "int(x)\n",
        "float(y)\n",
        "bool(z)\n",
        "\n",
        "# ANSWER 10.\n",
        "a = [1,2,3,2.3,\"Ajay\"]\n",
        "print(type(a[0]))\n",
        "print(type(a[1]))\n",
        "print(type(a[2]))\n",
        "print(type(a[3]))\n",
        "print(type(a[4]))\n",
        "\n",
        "# ANSWER 11.\n",
        "a = 100\n",
        "if a>0:\n",
        "    print(\"number is positive\")\n",
        "elif a<0:\n",
        "    print(\"number is negative\")\n",
        "else:\n",
        "    print(\"number is zero\")\n",
        "\n",
        "# ANSWER 12.\n",
        "''' LOOPS NOT IN PREVIOUS LECTURES'''\n",
        "\n",
        "# ANSWER 13.\n",
        "''' LOOPS NOT IN PREVIOUS LECTURES'''\n",
        "\n",
        "# ANSWER 14.\n",
        "''' LOOPS NOT IN PREVIOUS LECTURES'''\n",
        "\n",
        "# ANSWER 15.\n",
        "''' LOOPS NOT IN PREVIOUS LECTURES'''\n",
        "\n",
        "\n",
        "\n",
        "\n"
      ],
      "metadata": {
        "colab": {
          "base_uri": "https://localhost:8080/",
          "height": 323
        },
        "id": "3fe8FJkhfsoX",
        "outputId": "4db124ed-b954-4001-b42e-e1fef2395729"
      },
      "execution_count": 1,
      "outputs": [
        {
          "output_type": "stream",
          "name": "stdout",
          "text": [
            "hello world\n",
            "Name = Krish\n",
            "Age = 20\n",
            "[1, 2, 2.3, True, 'raj']\n"
          ]
        },
        {
          "output_type": "error",
          "ename": "TypeError",
          "evalue": "'str' object does not support item assignment",
          "traceback": [
            "\u001b[0;31m---------------------------------------------------------------------------\u001b[0m",
            "\u001b[0;31mTypeError\u001b[0m                                 Traceback (most recent call last)",
            "\u001b[0;32m<ipython-input-1-a6961060e30e>\u001b[0m in \u001b[0;36m<cell line: 24>\u001b[0;34m()\u001b[0m\n\u001b[1;32m     22\u001b[0m \u001b[0mprint\u001b[0m\u001b[0;34m(\u001b[0m\u001b[0ma\u001b[0m\u001b[0;34m)\u001b[0m\u001b[0;34m\u001b[0m\u001b[0;34m\u001b[0m\u001b[0m\n\u001b[1;32m     23\u001b[0m \u001b[0;31m#but doing this with b will give us an error.\u001b[0m\u001b[0;34m\u001b[0m\u001b[0;34m\u001b[0m\u001b[0m\n\u001b[0;32m---> 24\u001b[0;31m \u001b[0mb\u001b[0m\u001b[0;34m[\u001b[0m\u001b[0;36m2\u001b[0m\u001b[0;34m]\u001b[0m\u001b[0;34m=\u001b[0m\u001b[0;34m\"k\"\u001b[0m\u001b[0;34m\u001b[0m\u001b[0;34m\u001b[0m\u001b[0m\n\u001b[0m\u001b[1;32m     25\u001b[0m \u001b[0mprint\u001b[0m\u001b[0;34m(\u001b[0m\u001b[0mb\u001b[0m\u001b[0;34m)\u001b[0m\u001b[0;34m\u001b[0m\u001b[0;34m\u001b[0m\u001b[0m\n\u001b[1;32m     26\u001b[0m \u001b[0;31m#so, b will remain same\u001b[0m\u001b[0;34m\u001b[0m\u001b[0;34m\u001b[0m\u001b[0m\n",
            "\u001b[0;31mTypeError\u001b[0m: 'str' object does not support item assignment"
          ]
        }
      ]
    },
    {
      "cell_type": "code",
      "source": [],
      "metadata": {
        "id": "svE6Pqd_qwX7"
      },
      "execution_count": null,
      "outputs": []
    }
  ]
}